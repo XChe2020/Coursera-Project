{
 "cells": [
  {
   "cell_type": "markdown",
   "metadata": {},
   "source": [
    "## Capstone Project - Car accident severity (Week 2)\n",
    "\n",
    "### Introduction\n",
    "\n",
    "In this report, we are going to investigate the severity of the road accidents in the UK. The study is related only to personal injury accidents on public roads that are reported to the police, and subsequently recordered using the STATS19 accident reporting form. \n",
    "\n",
    "Road accidents severity has been an important problem for industry and government for many reasons. For instance, insurance companies would like to understand more the cause of the accident and its severity to help them make the business decisions that would improve the profit. For government, it wants to make the road safer for the gerenal public by improve the road conditions and traffic facilities. \n",
    "\n",
    "Hence, we think it is important to understand the cause of the car accident severity and their impact. \n",
    "\n",
    "\n",
    "### Data\n",
    "In recent years, there has been an increasing demand for understanding the cause of the road accidents in the UK, there the Department for Tranport had made such data avaiable to the public for the first time. \n",
    "\n",
    "We obtained the data from <https://data.gov.uk/dataset/cb7ae6f0-4be6-4935-9277-47e5ce24a11f/road-safety-data> for the year of 2018. There are two datasets that are relevant to the study. \n",
    "* Vehicles data\n",
    "* Accidents data\n",
    "\n",
    "All the data variables are coded rather than containing textual strings, a lookup table is downloaded. \n",
    "\n",
    "In the accidents data, we can find the severity of the accidents as labelld as 1 to 3, which will be used as the target of the model. In both vehicles and accidents datasets, there are information about the vehicels that invlved in the accidents, and other relevant information such as the location, date, time, weather condition and etc. All of which can be used to determine the most important cause of the accidents. \n",
    "\n",
    "The data will be split into training set and testing set, where the training set is used to form the relationship between the cause and the severity, and the model will be tested on the testing set to verify the performance. \n",
    "\n"
   ]
  },
  {
   "cell_type": "code",
   "execution_count": 8,
   "metadata": {},
   "outputs": [],
   "source": [
    "import pandas as pd\n",
    "import numpy as np "
   ]
  },
  {
   "cell_type": "code",
   "execution_count": 10,
   "metadata": {},
   "outputs": [
    {
     "name": "stdout",
     "output_type": "stream",
     "text": [
      "Hello Capstone Project Course!\n"
     ]
    }
   ],
   "source": [
    "print('Hello Capstone Project Course!')"
   ]
  }
 ],
 "metadata": {
  "kernelspec": {
   "display_name": "Python 3",
   "language": "python",
   "name": "python3"
  },
  "language_info": {
   "codemirror_mode": {
    "name": "ipython",
    "version": 3
   },
   "file_extension": ".py",
   "mimetype": "text/x-python",
   "name": "python",
   "nbconvert_exporter": "python",
   "pygments_lexer": "ipython3",
   "version": "3.7.6"
  }
 },
 "nbformat": 4,
 "nbformat_minor": 4
}
